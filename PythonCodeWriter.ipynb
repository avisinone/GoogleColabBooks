{
  "nbformat": 4,
  "nbformat_minor": 0,
  "metadata": {
    "colab": {
      "provenance": [],
      "authorship_tag": "ABX9TyMWJChAF0beznK2RgfoXsQZ",
      "include_colab_link": true
    },
    "kernelspec": {
      "name": "python3",
      "display_name": "Python 3"
    },
    "language_info": {
      "name": "python"
    }
  },
  "cells": [
    {
      "cell_type": "markdown",
      "metadata": {
        "id": "view-in-github",
        "colab_type": "text"
      },
      "source": [
        "<a href=\"https://colab.research.google.com/github/avisinone/GoogleColabBooks/blob/main/PythonCodeWriter.ipynb\" target=\"_parent\"><img src=\"https://colab.research.google.com/assets/colab-badge.svg\" alt=\"Open In Colab\"/></a>"
      ]
    },
    {
      "cell_type": "code",
      "execution_count": null,
      "metadata": {
        "id": "AAA8X1XyEGtO"
      },
      "outputs": [],
      "source": [
        "!!pip install litellm\n",
        "\n",
        "# Important!!!\n",
        "#\n",
        "# <---- Set your 'OPENAI_API_KEY' as a secret over there with the \"key\" icon\n",
        "#\n",
        "#\n",
        "import os\n",
        "from google.colab import userdata\n",
        "api_key = userdata.get('OPENAI_API_KEY')\n",
        "os.environ['OPENAI_API_KEY'] = api_key"
      ]
    },
    {
      "cell_type": "code",
      "source": [
        "from litellm import completion\n",
        "from typing import List, Dict\n",
        "\n",
        "\n",
        "def generate_response(messages: List[Dict]) -> str:\n",
        "    \"\"\"Call LLM to get response\"\"\"\n",
        "    response = completion(\n",
        "        model=\"openai/gpt-4o\",\n",
        "        messages=messages,\n",
        "        max_tokens=1024\n",
        "    )\n",
        "    return response.choices[0].message.content"
      ],
      "metadata": {
        "id": "Dg_QSCNOELE_"
      },
      "execution_count": null,
      "outputs": []
    },
    {
      "cell_type": "code",
      "source": [
        "def extract_code_block(response: str) -> str:\n",
        "    \"\"\"Extract code block from response\"\"\"\n",
        "    if not '```' in response:\n",
        "        return response\n",
        "\n",
        "    code_block = response.split('```')[1].strip()\n",
        "    if code_block.startswith(\"python\"):\n",
        "        code_block = code_block[6:]\n",
        "\n",
        "    return code_block"
      ],
      "metadata": {
        "id": "Be5waYDTEXzI"
      },
      "execution_count": null,
      "outputs": []
    },
    {
      "cell_type": "code",
      "source": [
        "def develop_custom_function():\n",
        "   # Get user input for function description\n",
        "   print(\"\\nWhat kind of function would you like to create?\")\n",
        "   print(\"Example: 'A function that calculates the factorial of a number'\")\n",
        "   print(\"Your description: \", end='')\n",
        "   function_description = input().strip()\n",
        "\n",
        "   # Initialize conversation with system prompt\n",
        "   messages = [\n",
        "      {\"role\": \"system\", \"content\": \"You are a Python expert helping to develop a function.\"}\n",
        "   ]\n",
        "\n",
        "   # First prompt - Basic function\n",
        "   messages.append({\n",
        "      \"role\": \"user\",\n",
        "      \"content\": f\"Write a Python function that {function_description}. Output the function in a ```python code block```.\"\n",
        "   })\n",
        "   initial_function = generate_response(messages)\n",
        "\n",
        "   # Parse the response to get the function code\n",
        "   initial_function = extract_code_block(initial_function)\n",
        "\n",
        "   print(\"\\n=== Initial Function ===\")\n",
        "   print(initial_function)\n",
        "\n",
        "   # Add assistant's response to conversation\n",
        "   # Notice that I am purposely causing it to forget its commentary and just see the code so that\n",
        "   # it appears that is always outputting just code.\n",
        "   messages.append({\"role\": \"assistant\", \"content\": \"\\`\\`\\`python\\n\\n\"+initial_function+\"\\n\\n\\`\\`\\`\"})\n",
        "\n",
        "   # Second prompt - Add documentation\n",
        "   messages.append({\n",
        "      \"role\": \"user\",\n",
        "      \"content\": \"Add comprehensive documentation to this function, including description, parameters, \"\n",
        "                 \"return value, examples, and edge cases. Output the function in a ```python code block```.\"\n",
        "   })\n",
        "   documented_function = generate_response(messages)\n",
        "   documented_function = extract_code_block(documented_function)\n",
        "   print(\"\\n=== Documented Function ===\")\n",
        "   print(documented_function)\n",
        "\n",
        "   # Add documentation response to conversation\n",
        "   messages.append({\"role\": \"assistant\", \"content\": \"\\`\\`\\`python\\n\\n\"+documented_function+\"\\n\\n\\`\\`\\`\"})\n",
        "\n",
        "   # Third prompt - Add test cases\n",
        "   messages.append({\n",
        "      \"role\": \"user\",\n",
        "      \"content\": \"Add unittest test cases for this function, including tests for basic functionality, \"\n",
        "                 \"edge cases, error cases, and various input scenarios. Output the code in a \\`\\`\\`python code block\\`\\`\\`.\"\n",
        "   })\n",
        "   test_cases = generate_response(messages)\n",
        "   # We will likely run into random problems here depending on if it outputs JUST the test cases or the\n",
        "   # test cases AND the code. This is the type of issue we will learn to work through with agents in the course.\n",
        "   test_cases = extract_code_block(test_cases)\n",
        "   print(\"\\n=== Test Cases ===\")\n",
        "   print(test_cases)\n",
        "\n",
        "   # Generate filename from function description\n",
        "   filename = function_description.lower()\n",
        "   filename = ''.join(c for c in filename if c.isalnum() or c.isspace())\n",
        "   filename = filename.replace(' ', '_')[:30] + '.py'\n",
        "\n",
        "   # Save final version\n",
        "   with open(filename, 'w') as f:\n",
        "      f.write(documented_function + '\\n\\n' + test_cases)\n",
        "\n",
        "   return documented_function, test_cases, filename\n",
        "\n",
        "if __name__ == \"__main__\":\n",
        "\n",
        "\n",
        "   function_code, tests, filename = develop_custom_function()\n",
        "   print(f\"\\nFinal code has been saved to {filename}\")"
      ],
      "metadata": {
        "id": "xlokxpn6Es23"
      },
      "execution_count": null,
      "outputs": []
    }
  ]
}