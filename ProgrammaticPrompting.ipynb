{
  "nbformat": 4,
  "nbformat_minor": 0,
  "metadata": {
    "colab": {
      "provenance": [],
      "include_colab_link": true
    },
    "kernelspec": {
      "name": "python3",
      "display_name": "Python 3"
    },
    "language_info": {
      "name": "python"
    }
  },
  "cells": [
    {
      "cell_type": "markdown",
      "metadata": {
        "id": "view-in-github",
        "colab_type": "text"
      },
      "source": [
        "<a href=\"https://colab.research.google.com/github/avisinone/GoogleColabBooks/blob/main/ProgrammaticPrompting.ipynb\" target=\"_parent\"><img src=\"https://colab.research.google.com/assets/colab-badge.svg\" alt=\"Open In Colab\"/></a>"
      ]
    },
    {
      "cell_type": "code",
      "source": [
        "!!pip install litellm\n",
        "\n",
        "# Important!!!\n",
        "#\n",
        "# <---- Set your 'OPENAI_API_KEY' as a secret over there with the \"key\" icon\n",
        "#\n",
        "#\n",
        "import os\n",
        "from google.colab import userdata\n",
        "api_key = userdata.get('HF_TOKEN')\n",
        "os.environ['HF_TOKEN'] = api_key"
      ],
      "metadata": {
        "id": "KEYrzG2vB8Ip"
      },
      "execution_count": 1,
      "outputs": []
    },
    {
      "cell_type": "code",
      "execution_count": 2,
      "metadata": {
        "colab": {
          "base_uri": "https://localhost:8080/"
        },
        "id": "Mwe2eeOQB0cC",
        "outputId": "e03c72e8-b42e-463e-98a1-87a23271444a"
      },
      "outputs": [
        {
          "output_type": "stream",
          "name": "stdout",
          "text": [
            "<think>\n",
            "We are going to swap keys and values of a dictionary.\n",
            " However, note that if the original dictionary has duplicate values, then after swapping, the keys (which were values) would have to map to multiple values (which were keys).\n",
            " Since a dictionary requires unique keys, we have to decide how to handle duplicates.\n",
            "\n",
            " One common approach is to have the values in the swapped dictionary be a list of keys from the original that had that value.\n",
            "\n",
            " Alternatively, we could decide to only include the last occurrence or the first? But the problem doesn't specify.\n",
            "\n",
            " However, the problem statement is ambiguous. Let's consider two cases:\n",
            "\n",
            " Case 1: The original dictionary has unique values. Then we can simply swap.\n",
            "\n",
            " Case 2: There are duplicate values. Then we have to aggregate.\n",
            "\n",
            " Since the problem does not specify, we should consider the requirement.\n",
            "\n",
            " But note: the problem says \"swap the keys and values\". In the case of duplicates, we cannot have duplicate keys.\n",
            "\n",
            " Therefore, we have two typical solutions:\n",
            "\n",
            " Option 1: Only swap if the values are unique. If not, we might raise an error or choose one arbitrarily? (not safe)\n",
            "\n",
            " Option 2: Collect the keys that map to the same value into a list.\n",
            "\n",
            " However, the problem does not specify. Let me look at common practice.\n",
            "\n",
            " In Python, if we want to invert a dictionary and handle duplicates, we often do:\n",
            "\n",
            "   inverted = {}\n",
            "   for key, value in original.items():\n",
            "        inverted.setdefault(value, []).append(key)\n",
            "\n",
            " But note: the problem says \"swap\", which might imply a one-to-one mapping. But if the original is not injective, then we have to do something.\n",
            "\n",
            " Since the problem is ambiguous, I will write two functions:\n",
            "\n",
            " 1. A function that swaps keys and values and assumes that the values are unique. If there is a duplicate, it will overwrite (so the last key wins).\n",
            "\n",
            " 2. A function that swaps and collects duplicates into lists.\n",
            "\n",
            " But the problem says \"a function\", so I have to choose one.\n",
            "\n",
            " Let me re-read: \"swap the keys and values in a dictionary\". The most straightforward interpretation is to create a new dictionary where each key is the old value and each value is the old key. And if there are duplicates, then we cannot have duplicate keys so we must lose some data? Or we must aggregate.\n",
            "\n",
            " However, without specification, I will choose the method that aggregates the keys into a list for the same value.\n",
            "\n",
            " But note: what if the original dictionary has values that are not hashable? We don't have to worry because dictionary keys must be hashable, and we are swapping so the new keys are the old values which were already used as keys? No, wait: in the original, the values can be of any type? But for the new dictionary, the keys must be hashable. So we must assume that the values are hashable.\n",
            "\n",
            " Actually, the original dictionary can have any type for value? But to be a key in the new dictionary, the value must be hashable.\n",
            "\n",
            " So we can do:\n",
            "\n",
            "   def swap_dict(d):\n",
            "        swapped = {}\n",
            "        for key, value in d.items():\n",
            "            # We need to check if the value is hashable? Actually, we can try and if it's not, it will throw an error.\n",
            "            # But the problem doesn't specify, so we assume the values are hashable.\n",
            "            if value in swapped:\n",
            "                # if we have already seen this value, then we append the key to the list\n",
            "                # but what if we are on the second occurrence? then we have a list already? or what if we are on the third?\n",
            "                # but note: the first time we put a single element? or we always use a list?\n",
            "                # We can change the first occurrence to a list when we see the second.\n",
            "                current = swapped[value]\n",
            "                if type(current) is list:\n",
            "                    current.append(key)\n",
            "                else:\n",
            "                    # then we have a single element, so we make it a list and add the new key\n",
            "                    swapped[value] = [current, key]\n",
            "            else:\n",
            "                # first time we see this value\n",
            "                swapped[value] = key\n",
            "\n",
            "        return swapped\n",
            "\n",
            " However, this approach is a bit messy because we have two types: sometimes a single element, sometimes a list.\n",
            "\n",
            " Alternatively, we can always store a list. Then:\n",
            "\n",
            "   def swap_dict(d):\n",
            "        swapped = {}\n",
            "        for key, value in d.items():\n",
            "            if value in swapped:\n",
            "                swapped[value].append(key)\n",
            "            else:\n",
            "                swapped[value] = [key]\n",
            "\n",
            "        return swapped\n",
            "\n",
            " But then, for the case where there is only one key, we have a list of one element. That might be acceptable? But the problem doesn't specify.\n",
            "\n",
            " However, the problem says \"swap\", and if the original dictionary had unique values, then we would expect a one-to-one mapping. Having a list of one element is not the same as the single element.\n",
            "\n",
            " We could do:\n"
          ]
        }
      ],
      "source": [
        "from litellm import completion\n",
        "from typing import List, Dict\n",
        "\n",
        "\n",
        "def generate_response(messages: List[Dict]) -> str:\n",
        "    \"\"\"Call LLM to get response\"\"\"\n",
        "    response = completion(\n",
        "        model=\"huggingface/together/deepseek-ai/DeepSeek-R1\",\n",
        "        messages=messages,\n",
        "        max_tokens=1024\n",
        "    )\n",
        "    return response.choices[0].message.content\n",
        "\n",
        "\n",
        "messages = [\n",
        "    {\"role\": \"system\", \"content\": \"You are an expert software engineer that prefers functional programming.\"},\n",
        "    {\"role\": \"user\", \"content\": \"Write a function to swap the keys and values in a dictionary.\"}\n",
        "]\n",
        "\n",
        "response = generate_response(messages)\n",
        "print(response)"
      ]
    }
  ]
}